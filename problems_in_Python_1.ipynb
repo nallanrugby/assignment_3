{
 "cells": [
  {
   "cell_type": "code",
   "execution_count": 5,
   "metadata": {
    "collapsed": false
   },
   "outputs": [],
   "source": [
    "word = \"supercalifragilisticexpialidocious\""
   ]
  },
  {
   "cell_type": "code",
   "execution_count": 6,
   "metadata": {
    "collapsed": false
   },
   "outputs": [
    {
     "name": "stdout",
     "output_type": "stream",
     "text": [
      "super= super\n"
     ]
    }
   ],
   "source": [
    "#this is the step where i will create the variable super\n",
    "print('super=', word [0:5])"
   ]
  },
  {
   "cell_type": "code",
   "execution_count": 7,
   "metadata": {
    "collapsed": false
   },
   "outputs": [
    {
     "name": "stdout",
     "output_type": "stream",
     "text": [
      "ice= ice\n"
     ]
    }
   ],
   "source": [
    "#this is the step where i will create the variable ice\n",
    "print('ice=', word [18:21])"
   ]
  },
  {
   "cell_type": "code",
   "execution_count": 8,
   "metadata": {
    "collapsed": false
   },
   "outputs": [
    {
     "name": "stdout",
     "output_type": "stream",
     "text": [
      "us= us\n"
     ]
    }
   ],
   "source": [
    "#this is the step where i will create the variable us\n",
    "print('us=', word [-2:])"
   ]
  },
  {
   "cell_type": "code",
   "execution_count": 9,
   "metadata": {
    "collapsed": false
   },
   "outputs": [
    {
     "name": "stdout",
     "output_type": "stream",
     "text": [
      "(2, 4, 6, 8, 10)\n"
     ]
    }
   ],
   "source": [
    "#here i create a list of even number from 1 to 10 inclusive\n",
    "even = 2, 4, 6, 8, 10\n",
    "print(even)"
   ]
  },
  {
   "cell_type": "code",
   "execution_count": 10,
   "metadata": {
    "collapsed": false
   },
   "outputs": [
    {
     "name": "stdout",
     "output_type": "stream",
     "text": [
      "sum_of_the_even_numbers 30\n"
     ]
    }
   ],
   "source": [
    "#here we add the even numbers from the list\n",
    "print('sum_of_the_even_numbers',even[0]+even[1]+even[2]+even[3]+even[4])\n",
    "sum_of_the_even_numbers=even[0]+even[1]+even[2]+even[3]+even[4]"
   ]
  },
  {
   "cell_type": "code",
   "execution_count": 14,
   "metadata": {
    "collapsed": false
   },
   "outputs": [
    {
     "name": "stdout",
     "output_type": "stream",
     "text": [
      "the mean of the even numbers 6.0\n"
     ]
    }
   ],
   "source": [
    "#here we calculate the average/the mean of the even numbers\n",
    "mean_even= sum_of_the_even_numbers / 5\n",
    "print('the mean of the even numbers', mean_even)\n"
   ]
  },
  {
   "cell_type": "code",
   "execution_count": 12,
   "metadata": {
    "collapsed": false
   },
   "outputs": [
    {
     "name": "stdout",
     "output_type": "stream",
     "text": [
      "(2, 4, 6, 8, 10)\n"
     ]
    }
   ],
   "source": [
    "print(even)"
   ]
  },
  {
   "cell_type": "code",
   "execution_count": 22,
   "metadata": {
    "collapsed": false
   },
   "outputs": [
    {
     "name": "stdout",
     "output_type": "stream",
     "text": [
      "16.0 4.0 0.0 4.0 16.0\n"
     ]
    }
   ],
   "source": [
    "#sqaured diffrence \n",
    "std_1 = (even[0] - mean_even )**2\n",
    "std_2 = (even[1] - mean_even )**2 \n",
    "std_3 = (even[2] - mean_even )**2\n",
    "std_4 = (even[3] - mean_even )**2\n",
    "std_5 = (even[4] - mean_even )**2\n",
    "print( std_1, std_2, std_3, std_4, std_5)"
   ]
  },
  {
   "cell_type": "code",
   "execution_count": 25,
   "metadata": {
    "collapsed": false
   },
   "outputs": [
    {
     "name": "stdout",
     "output_type": "stream",
     "text": [
      "8.0\n"
     ]
    }
   ],
   "source": [
    "#standard deviation \n",
    "std = (std_1+std_2+std_3+std_4+std_5)/5\n",
    "print(std)"
   ]
  },
  {
   "cell_type": "code",
   "execution_count": 29,
   "metadata": {
    "collapsed": false
   },
   "outputs": [
    {
     "ename": "SyntaxError",
     "evalue": "invalid syntax (<ipython-input-29-98fa23778803>, line 2)",
     "output_type": "error",
     "traceback": [
      "\u001b[0;36m  File \u001b[0;32m\"<ipython-input-29-98fa23778803>\"\u001b[0;36m, line \u001b[0;32m2\u001b[0m\n\u001b[0;31m    SE = std/**(1/2)\u001b[0m\n\u001b[0m              ^\u001b[0m\n\u001b[0;31mSyntaxError\u001b[0m\u001b[0;31m:\u001b[0m invalid syntax\n"
     ]
    }
   ],
   "source": [
    "#standard error\n",
    "SE = std / **(1/2) \n"
   ]
  },
  {
   "cell_type": "code",
   "execution_count": null,
   "metadata": {
    "collapsed": true
   },
   "outputs": [],
   "source": []
  },
  {
   "cell_type": "code",
   "execution_count": null,
   "metadata": {
    "collapsed": true
   },
   "outputs": [],
   "source": []
  },
  {
   "cell_type": "code",
   "execution_count": null,
   "metadata": {
    "collapsed": true
   },
   "outputs": [],
   "source": []
  },
  {
   "cell_type": "code",
   "execution_count": null,
   "metadata": {
    "collapsed": true
   },
   "outputs": [],
   "source": []
  }
 ],
 "metadata": {
  "kernelspec": {
   "display_name": "Python 3",
   "language": "python",
   "name": "python3"
  },
  "language_info": {
   "codemirror_mode": {
    "name": "ipython",
    "version": 3
   },
   "file_extension": ".py",
   "mimetype": "text/x-python",
   "name": "python",
   "nbconvert_exporter": "python",
   "pygments_lexer": "ipython3",
   "version": "3.4.3"
  }
 },
 "nbformat": 4,
 "nbformat_minor": 0
}
